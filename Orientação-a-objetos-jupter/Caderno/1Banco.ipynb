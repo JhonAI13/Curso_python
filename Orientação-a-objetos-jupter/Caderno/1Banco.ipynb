{
 "cells": [
  {
   "cell_type": "code",
   "execution_count": 1,
   "id": "08fd6914-77db-42f2-a09f-da3a370a6343",
   "metadata": {},
   "outputs": [],
   "source": [
    "conta\t=\t{\"numero\":\t'123-4',\t\"titular\":\t\"João\",\t\"saldo\": 120.0,\t\"limite\":\t1000.0}"
   ]
  },
  {
   "cell_type": "code",
   "execution_count": 2,
   "id": "7f9532c3-f557-420b-ab5c-c11a0ba23232",
   "metadata": {},
   "outputs": [
    {
     "data": {
      "text/plain": [
       "'123-4'"
      ]
     },
     "execution_count": 2,
     "metadata": {},
     "output_type": "execute_result"
    }
   ],
   "source": [
    "conta['numero']"
   ]
  },
  {
   "cell_type": "code",
   "execution_count": 5,
   "id": "964f8d78-2747-4b1b-a5e4-147c452d3f90",
   "metadata": {},
   "outputs": [],
   "source": [
    "conta2\t=\t{\"numero\":\t'123-5',\t\"titular\":\t\"José\",\t\"saldo\":\t200.0,\t\"limite\":\t1000.0}"
   ]
  },
  {
   "cell_type": "code",
   "execution_count": 6,
   "id": "40dd48a1-940f-40a0-8360-99148b072a40",
   "metadata": {},
   "outputs": [],
   "source": [
    "# Forma de criar uma programa de banco sem orientação a objetos."
   ]
  }
 ],
 "metadata": {
  "kernelspec": {
   "display_name": "Python 3 (ipykernel)",
   "language": "python",
   "name": "python3"
  },
  "language_info": {
   "codemirror_mode": {
    "name": "ipython",
    "version": 3
   },
   "file_extension": ".py",
   "mimetype": "text/x-python",
   "name": "python",
   "nbconvert_exporter": "python",
   "pygments_lexer": "ipython3",
   "version": "3.12.4"
  }
 },
 "nbformat": 4,
 "nbformat_minor": 5
}
