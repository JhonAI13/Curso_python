{
 "cells": [
  {
   "cell_type": "code",
   "execution_count": 7,
   "metadata": {},
   "outputs": [
    {
     "name": "stdout",
     "output_type": "stream",
     "text": [
      "Cliente cadastrado.\n",
      "Cliente cadastrado.\n"
     ]
    }
   ],
   "source": [
    "from teste_conta_cliente import Conta, Cliente\n",
    "cliente1\t=\tCliente('João',\t'Oliveira',\t'11111111111-11')\n",
    "cliente2\t=\tCliente('José',\t'Azevedo',\t'222222222-22')\n"
   ]
  },
  {
   "cell_type": "code",
   "execution_count": 8,
   "metadata": {},
   "outputs": [
    {
     "name": "stdout",
     "output_type": "stream",
     "text": [
      "inicializando uma conta\n",
      "inicializando uma conta\n"
     ]
    }
   ],
   "source": [
    "conta1\t=\tConta('123-4',\tcliente1,\t1000.0)\n",
    "conta2\t=\tConta('123-5',\tcliente2,\t1000.0)\n"
   ]
  },
  {
   "cell_type": "code",
   "execution_count": 9,
   "metadata": {},
   "outputs": [
    {
     "name": "stdout",
     "output_type": "stream",
     "text": [
      "numero: 123-4 \n",
      "saldo: 850.0\n"
     ]
    }
   ],
   "source": [
    "conta1.deposita(100.0)\n",
    "conta1.saca(50.0)\n",
    "conta1.transfere(conta2,\t200.0)\n",
    "conta1.extrato()"
   ]
  },
  {
   "cell_type": "code",
   "execution_count": 11,
   "metadata": {},
   "outputs": [
    {
     "name": "stdout",
     "output_type": "stream",
     "text": [
      "data abertura: 2024-08-13 22:26:11.086252\n",
      "transações: \n",
      "- +100.0\n",
      "- -50.0\n",
      "- -200.0\n",
      "- transferencia de 200.0 para conta123-5\n"
     ]
    }
   ],
   "source": [
    "conta1.historico.imprime()"
   ]
  },
  {
   "cell_type": "code",
   "execution_count": 12,
   "metadata": {},
   "outputs": [
    {
     "name": "stdout",
     "output_type": "stream",
     "text": [
      "data abertura: 2024-08-13 22:26:11.086252\n",
      "transações: \n",
      "- +200.0\n"
     ]
    }
   ],
   "source": [
    "conta2.historico.imprime()"
   ]
  },
  {
   "cell_type": "code",
   "execution_count": 13,
   "metadata": {},
   "outputs": [
    {
     "data": {
      "text/plain": [
       "['__class__',\n",
       " '__delattr__',\n",
       " '__dict__',\n",
       " '__dir__',\n",
       " '__doc__',\n",
       " '__eq__',\n",
       " '__format__',\n",
       " '__ge__',\n",
       " '__getattribute__',\n",
       " '__getstate__',\n",
       " '__gt__',\n",
       " '__hash__',\n",
       " '__init__',\n",
       " '__init_subclass__',\n",
       " '__le__',\n",
       " '__lt__',\n",
       " '__module__',\n",
       " '__ne__',\n",
       " '__new__',\n",
       " '__reduce__',\n",
       " '__reduce_ex__',\n",
       " '__repr__',\n",
       " '__setattr__',\n",
       " '__sizeof__',\n",
       " '__str__',\n",
       " '__subclasshook__',\n",
       " '__weakref__',\n",
       " 'deposita',\n",
       " 'extrato',\n",
       " 'saca',\n",
       " 'transfere']"
      ]
     },
     "execution_count": 13,
     "metadata": {},
     "output_type": "execute_result"
    }
   ],
   "source": [
    "dir(Conta)"
   ]
  },
  {
   "cell_type": "code",
   "execution_count": 16,
   "metadata": {},
   "outputs": [
    {
     "data": {
      "text/plain": [
       "{'numero': '123-4',\n",
       " 'titular': <teste_conta_cliente.Cliente at 0x1cecd41e150>,\n",
       " 'saldo': 850.0,\n",
       " 'limite': 1000,\n",
       " 'historico': <teste_conta_cliente.Historico at 0x1cecd1c6540>}"
      ]
     },
     "execution_count": 16,
     "metadata": {},
     "output_type": "execute_result"
    }
   ],
   "source": [
    "conta1.__dict__"
   ]
  },
  {
   "cell_type": "code",
   "execution_count": null,
   "metadata": {},
   "outputs": [],
   "source": []
  }
 ],
 "metadata": {
  "kernelspec": {
   "display_name": "Python 3 (ipykernel)",
   "language": "python",
   "name": "python3"
  },
  "language_info": {
   "codemirror_mode": {
    "name": "ipython",
    "version": 3
   },
   "file_extension": ".py",
   "mimetype": "text/x-python",
   "name": "python",
   "nbconvert_exporter": "python",
   "pygments_lexer": "ipython3",
   "version": "3.12.4"
  }
 },
 "nbformat": 4,
 "nbformat_minor": 4
}
