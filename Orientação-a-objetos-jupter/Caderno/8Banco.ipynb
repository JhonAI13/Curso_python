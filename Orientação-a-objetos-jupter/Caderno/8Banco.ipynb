{
 "cells": [
  {
   "cell_type": "code",
   "execution_count": 1,
   "metadata": {},
   "outputs": [
    {
     "ename": "ImportError",
     "evalue": "cannot import name 'Cliente' from 'teste_conta_cliente' (c:\\Users\\jonat\\Documents\\GitHub\\Python_estudos\\Orientação-a-objetos-jupter\\Caderno\\teste_conta_cliente.py)",
     "output_type": "error",
     "traceback": [
      "\u001b[1;31m---------------------------------------------------------------------------\u001b[0m",
      "\u001b[1;31mImportError\u001b[0m                               Traceback (most recent call last)",
      "Cell \u001b[1;32mIn[1], line 1\u001b[0m\n\u001b[1;32m----> 1\u001b[0m \u001b[38;5;28;01mfrom\u001b[39;00m \u001b[38;5;21;01mteste_conta_cliente\u001b[39;00m \u001b[38;5;28;01mimport\u001b[39;00m Conta, Cliente\n\u001b[0;32m      2\u001b[0m cliente \u001b[38;5;241m=\u001b[39m Cliente(\u001b[38;5;124m'\u001b[39m\u001b[38;5;124mJoão\u001b[39m\u001b[38;5;124m'\u001b[39m, \u001b[38;5;124m'\u001b[39m\u001b[38;5;124mOliveira\u001b[39m\u001b[38;5;124m'\u001b[39m, \u001b[38;5;124m'\u001b[39m\u001b[38;5;124m1111111111-1\u001b[39m\u001b[38;5;124m'\u001b[39m)\n",
      "\u001b[1;31mImportError\u001b[0m: cannot import name 'Cliente' from 'teste_conta_cliente' (c:\\Users\\jonat\\Documents\\GitHub\\Python_estudos\\Orientação-a-objetos-jupter\\Caderno\\teste_conta_cliente.py)"
     ]
    }
   ],
   "source": [
    "from teste_conta_cliente import Conta, Cliente\n",
    "cliente = Cliente('João', 'Oliveira', '1111111111-1')"
   ]
  },
  {
   "cell_type": "code",
   "execution_count": null,
   "metadata": {},
   "outputs": [],
   "source": []
  }
 ],
 "metadata": {
  "kernelspec": {
   "display_name": "Python 3 (ipykernel)",
   "language": "python",
   "name": "python3"
  },
  "language_info": {
   "codemirror_mode": {
    "name": "ipython",
    "version": 3
   },
   "file_extension": ".py",
   "mimetype": "text/x-python",
   "name": "python",
   "nbconvert_exporter": "python",
   "pygments_lexer": "ipython3",
   "version": "3.12.4"
  }
 },
 "nbformat": 4,
 "nbformat_minor": 4
}
