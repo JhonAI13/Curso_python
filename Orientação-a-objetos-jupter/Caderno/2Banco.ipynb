{
 "cells": [
  {
   "cell_type": "code",
   "execution_count": 1,
   "id": "7163a0b6-1f81-4328-bf92-28abedc8cd24",
   "metadata": {},
   "outputs": [],
   "source": [
    "def\tcria_conta():\n",
    "    conta\t=\t{\"numero\":\t'123-4',\t\"titular\":\t\"João\",\t\"saldo\":120.0,\t\"limite\":1000.0}\n",
    "    return\tconta"
   ]
  },
  {
   "cell_type": "code",
   "execution_count": 2,
   "id": "2b6af5e1-9410-4521-a7e8-9c3e4d02a03b",
   "metadata": {},
   "outputs": [
    {
     "ename": "NameError",
     "evalue": "name 'conta' is not defined",
     "output_type": "error",
     "traceback": [
      "\u001b[1;31m---------------------------------------------------------------------------\u001b[0m",
      "\u001b[1;31mNameError\u001b[0m                                 Traceback (most recent call last)",
      "Cell \u001b[1;32mIn[2], line 1\u001b[0m\n\u001b[1;32m----> 1\u001b[0m \u001b[43mconta\u001b[49m(\u001b[38;5;124m'\u001b[39m\u001b[38;5;124mnumero\u001b[39m\u001b[38;5;124m'\u001b[39m)\n",
      "\u001b[1;31mNameError\u001b[0m: name 'conta' is not defined"
     ]
    }
   ],
   "source": [
    "conta('numero')"
   ]
  },
  {
   "cell_type": "code",
   "execution_count": null,
   "id": "a29631bc-31ce-4041-83ed-a4f05df35ca1",
   "metadata": {},
   "outputs": [
    {
     "ename": "TypeError",
     "evalue": "list indices must be integers or slices, not str",
     "output_type": "error",
     "traceback": [
      "\u001b[1;31m---------------------------------------------------------------------------\u001b[0m",
      "\u001b[1;31mTypeError\u001b[0m                                 Traceback (most recent call last)",
      "Cell \u001b[1;32mIn[7], line 1\u001b[0m\n\u001b[1;32m----> 1\u001b[0m \u001b[43mconta\u001b[49m\u001b[43m[\u001b[49m\u001b[38;5;124;43m'\u001b[39;49m\u001b[38;5;124;43mnumero\u001b[39;49m\u001b[38;5;124;43m'\u001b[39;49m\u001b[43m]\u001b[49m\n",
      "\u001b[1;31mTypeError\u001b[0m: list indices must be integers or slices, not str"
     ]
    }
   ],
   "source": [
    "conta['numero']"
   ]
  },
  {
   "cell_type": "code",
   "execution_count": null,
   "id": "d599e665-e6b6-49cb-ac62-1b33a0fd5cf9",
   "metadata": {},
   "outputs": [
    {
     "data": {
      "text/plain": [
       "{'numero': '123-4', 'titular': 'João', 'saldo': 120.0, 'limite': 1000.0}"
      ]
     },
     "execution_count": 8,
     "metadata": {},
     "output_type": "execute_result"
    }
   ],
   "source": [
    "cria_conta()"
   ]
  },
  {
   "cell_type": "code",
   "execution_count": null,
   "id": "1d7b21bf-aac2-4231-8f38-4af7ca582df5",
   "metadata": {},
   "outputs": [
    {
     "ename": "TypeError",
     "evalue": "list indices must be integers or slices, not str",
     "output_type": "error",
     "traceback": [
      "\u001b[1;31m---------------------------------------------------------------------------\u001b[0m",
      "\u001b[1;31mTypeError\u001b[0m                                 Traceback (most recent call last)",
      "Cell \u001b[1;32mIn[9], line 1\u001b[0m\n\u001b[1;32m----> 1\u001b[0m cria_conta(\u001b[43mconta\u001b[49m\u001b[43m[\u001b[49m\u001b[38;5;124;43m'\u001b[39;49m\u001b[38;5;124;43mnumero\u001b[39;49m\u001b[38;5;124;43m'\u001b[39;49m\u001b[43m]\u001b[49m)\n",
      "\u001b[1;31mTypeError\u001b[0m: list indices must be integers or slices, not str"
     ]
    }
   ],
   "source": [
    "cria_conta(conta['numero'])"
   ]
  },
  {
   "cell_type": "code",
   "execution_count": null,
   "id": "0e45486c-3823-4e5a-ab4b-3ca1a41d55a6",
   "metadata": {},
   "outputs": [
    {
     "ename": "TypeError",
     "evalue": "cria_conta() takes 0 positional arguments but 1 was given",
     "output_type": "error",
     "traceback": [
      "\u001b[1;31m---------------------------------------------------------------------------\u001b[0m",
      "\u001b[1;31mTypeError\u001b[0m                                 Traceback (most recent call last)",
      "Cell \u001b[1;32mIn[10], line 1\u001b[0m\n\u001b[1;32m----> 1\u001b[0m \u001b[43mcria_conta\u001b[49m\u001b[43m(\u001b[49m\u001b[38;5;124;43m'\u001b[39;49m\u001b[38;5;124;43mnumero\u001b[39;49m\u001b[38;5;124;43m'\u001b[39;49m\u001b[43m)\u001b[49m\n",
      "\u001b[1;31mTypeError\u001b[0m: cria_conta() takes 0 positional arguments but 1 was given"
     ]
    }
   ],
   "source": [
    "cria_conta('numero')"
   ]
  },
  {
   "cell_type": "code",
   "execution_count": null,
   "id": "6460f490-8082-4d47-b495-99827f60da64",
   "metadata": {},
   "outputs": [
    {
     "ename": "TypeError",
     "evalue": "list indices must be integers or slices, not str",
     "output_type": "error",
     "traceback": [
      "\u001b[1;31m---------------------------------------------------------------------------\u001b[0m",
      "\u001b[1;31mTypeError\u001b[0m                                 Traceback (most recent call last)",
      "Cell \u001b[1;32mIn[11], line 1\u001b[0m\n\u001b[1;32m----> 1\u001b[0m \u001b[43mconta\u001b[49m\u001b[43m[\u001b[49m\u001b[38;5;124;43m'\u001b[39;49m\u001b[38;5;124;43mnumero\u001b[39;49m\u001b[38;5;124;43m'\u001b[39;49m\u001b[43m]\u001b[49m\n",
      "\u001b[1;31mTypeError\u001b[0m: list indices must be integers or slices, not str"
     ]
    }
   ],
   "source": [
    "conta['numero']"
   ]
  },
  {
   "cell_type": "code",
   "execution_count": null,
   "id": "d49065a1-2479-47d4-a588-c3a3d9d63679",
   "metadata": {},
   "outputs": [],
   "source": [
    "#melhorando umpouco mas ainda não o suficiente."
   ]
  },
  {
   "cell_type": "code",
   "execution_count": null,
   "id": "5f8ff834-4bd6-4a76-b882-5abc6f097790",
   "metadata": {},
   "outputs": [],
   "source": []
  }
 ],
 "metadata": {
  "kernelspec": {
   "display_name": "Python 3 (ipykernel)",
   "language": "python",
   "name": "python3"
  },
  "language_info": {
   "codemirror_mode": {
    "name": "ipython",
    "version": 3
   },
   "file_extension": ".py",
   "mimetype": "text/x-python",
   "name": "python",
   "nbconvert_exporter": "python",
   "pygments_lexer": "ipython3",
   "version": "3.12.4"
  }
 },
 "nbformat": 4,
 "nbformat_minor": 5
}
