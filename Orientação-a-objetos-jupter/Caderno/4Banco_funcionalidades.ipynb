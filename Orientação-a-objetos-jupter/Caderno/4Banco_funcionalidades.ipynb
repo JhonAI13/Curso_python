{
 "cells": [
  {
   "cell_type": "code",
   "execution_count": 1,
   "id": "c90633a1-1cfb-471a-a8ff-9d13057ac01d",
   "metadata": {
    "scrolled": true
   },
   "outputs": [
    {
     "name": "stdout",
     "output_type": "stream",
     "text": [
      "Help on function saca in module teste:\n",
      "\n",
      "saca(conta, valor)\n",
      "    subtrai o valor da conta.\n",
      "\n",
      "    Args:\n",
      "            conta (_type_): A conta cadastrada\n",
      "            valor (_type_): O valor a ser sacado\n",
      "\n"
     ]
    }
   ],
   "source": [
    "from\tteste\timport\tcria_conta,\tdeposita,\tsaca,\textrato\n"
   ]
  },
  {
   "cell_type": "code",
   "execution_count": 2,
   "id": "bee4eaab-9a05-4a77-a1eb-5f650cc759cc",
   "metadata": {},
   "outputs": [],
   "source": [
    "conta\t=\tcria_conta('123-4',\t'João',\t120.0,\t1000.0)"
   ]
  },
  {
   "cell_type": "raw",
   "id": "16d0b4ce-0c81-4f12-bd1a-880d5c864204",
   "metadata": {
    "vscode": {
     "languageId": "raw"
    }
   },
   "source": [
    "deposita(conta,700.0)"
   ]
  },
  {
   "cell_type": "code",
   "execution_count": 3,
   "id": "6d7f5ff7-9d65-4e2d-87b5-0340eb21d1fb",
   "metadata": {},
   "outputs": [
    {
     "name": "stdout",
     "output_type": "stream",
     "text": [
      "numero: 123-4 \n",
      "saldo: 120.0\n"
     ]
    }
   ],
   "source": [
    "extrato(conta)"
   ]
  },
  {
   "cell_type": "code",
   "execution_count": 4,
   "id": "70800357-b957-47a0-9424-fbd33ceb4cd2",
   "metadata": {},
   "outputs": [],
   "source": [
    "saca(conta,12.32)"
   ]
  },
  {
   "cell_type": "code",
   "execution_count": 5,
   "id": "8f0e73ed-c50a-47e7-8827-9c114f1d79e7",
   "metadata": {},
   "outputs": [
    {
     "name": "stdout",
     "output_type": "stream",
     "text": [
      "numero: 123-4 \n",
      "saldo: 107.68\n"
     ]
    }
   ],
   "source": [
    "extrato(conta)"
   ]
  },
  {
   "cell_type": "code",
   "execution_count": 6,
   "id": "b4641257-84ee-4b0b-b335-ab6258cf2cce",
   "metadata": {},
   "outputs": [
    {
     "name": "stdout",
     "output_type": "stream",
     "text": [
      "Help on function saca in module teste:\n",
      "\n",
      "saca(conta, valor)\n",
      "    subtrai o valor da conta.\n",
      "\n",
      "    Args:\n",
      "            conta (_type_): A conta cadastrada\n",
      "            valor (_type_): O valor a ser sacado\n",
      "\n"
     ]
    }
   ],
   "source": [
    "help(saca)"
   ]
  }
 ],
 "metadata": {
  "kernelspec": {
   "display_name": "Python 3 (ipykernel)",
   "language": "python",
   "name": "python3"
  },
  "language_info": {
   "codemirror_mode": {
    "name": "ipython",
    "version": 3
   },
   "file_extension": ".py",
   "mimetype": "text/x-python",
   "name": "python",
   "nbconvert_exporter": "python",
   "pygments_lexer": "ipython3",
   "version": "3.12.4"
  }
 },
 "nbformat": 4,
 "nbformat_minor": 5
}
