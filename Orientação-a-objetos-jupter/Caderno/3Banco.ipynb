{
 "cells": [
  {
   "cell_type": "code",
   "execution_count": 3,
   "id": "b64dd781-14ac-4b9c-9e8f-319f3230dd09",
   "metadata": {},
   "outputs": [],
   "source": [
    "def\tcria_conta(numero,\ttitular,\tsaldo,\tlimite):\n",
    "    conta\t=\t{\"numero\":\tnumero,\t\"titular\":\ttitular,\t\"saldo\":\tsaldo,\t\"limite\":\tlimite}\n",
    "    print(numero,titular,saldo,limite)\n",
    "    return\tconta"
   ]
  },
  {
   "cell_type": "code",
   "execution_count": 4,
   "id": "915d38d9-1ddd-4dca-a3e8-6115e79abd8e",
   "metadata": {},
   "outputs": [
    {
     "name": "stdout",
     "output_type": "stream",
     "text": [
      "123-4 João 120.0 1000.0\n"
     ]
    }
   ],
   "source": [
    "conta1\t=\tcria_conta('123-4',\t'João',\t120.0,\t1000.0)"
   ]
  },
  {
   "cell_type": "code",
   "execution_count": 5,
   "id": "ef4be2fa-89a6-486e-9a9a-887490e47bc4",
   "metadata": {},
   "outputs": [
    {
     "name": "stdout",
     "output_type": "stream",
     "text": [
      "123-5 José 200.0 1000.0\n"
     ]
    }
   ],
   "source": [
    "conta2\t=\tcria_conta('123-5',\t'José',\t200.0,\t1000.0)"
   ]
  },
  {
   "cell_type": "code",
   "execution_count": 6,
   "id": "ea6e7fe9-bd3f-42fb-aed3-ba1089ee655b",
   "metadata": {},
   "outputs": [
    {
     "data": {
      "text/plain": [
       "'123-4'"
      ]
     },
     "execution_count": 6,
     "metadata": {},
     "output_type": "execute_result"
    }
   ],
   "source": [
    "conta1['numero']"
   ]
  },
  {
   "cell_type": "code",
   "execution_count": 7,
   "id": "4a6e33f9-6d64-4d31-aa32-8199e0333c33",
   "metadata": {},
   "outputs": [
    {
     "data": {
      "text/plain": [
       "'123-5'"
      ]
     },
     "execution_count": 7,
     "metadata": {},
     "output_type": "execute_result"
    }
   ],
   "source": [
    "conta2['numero']"
   ]
  },
  {
   "cell_type": "code",
   "execution_count": null,
   "id": "c5704fa6-242e-4c20-830f-f0f92e9bd349",
   "metadata": {},
   "outputs": [],
   "source": []
  }
 ],
 "metadata": {
  "kernelspec": {
   "display_name": "Python 3 (ipykernel)",
   "language": "python",
   "name": "python3"
  },
  "language_info": {
   "codemirror_mode": {
    "name": "ipython",
    "version": 3
   },
   "file_extension": ".py",
   "mimetype": "text/x-python",
   "name": "python",
   "nbconvert_exporter": "python",
   "pygments_lexer": "ipython3",
   "version": "3.12.4"
  }
 },
 "nbformat": 4,
 "nbformat_minor": 5
}
