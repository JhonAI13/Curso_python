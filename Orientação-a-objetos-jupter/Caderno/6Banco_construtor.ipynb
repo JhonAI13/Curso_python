{
 "cells": [
  {
   "cell_type": "code",
   "execution_count": 1,
   "metadata": {},
   "outputs": [],
   "source": [
    "from teste_conta import\tConta"
   ]
  },
  {
   "cell_type": "code",
   "execution_count": 4,
   "metadata": {},
   "outputs": [
    {
     "name": "stdout",
     "output_type": "stream",
     "text": [
      "inicializando uma conta\n",
      "Não consegui sacar\n"
     ]
    }
   ],
   "source": [
    "minha_conta = Conta('123-4',\t'João',\t120.0,\t1000.0)\n",
    "minha_conta.saldo = 1000\n",
    "consegui = minha_conta.saca(2000)\n",
    "if (consegui):\n",
    "    print(\"consegui sacar\")\n",
    "else:\n",
    "    print(\"Não consegui sacar\")"
   ]
  },
  {
   "cell_type": "code",
   "execution_count": null,
   "metadata": {},
   "outputs": [],
   "source": []
  }
 ],
 "metadata": {
  "kernelspec": {
   "display_name": "Python 3 (ipykernel)",
   "language": "python",
   "name": "python3"
  },
  "language_info": {
   "codemirror_mode": {
    "name": "ipython",
    "version": 3
   },
   "file_extension": ".py",
   "mimetype": "text/x-python",
   "name": "python",
   "nbconvert_exporter": "python",
   "pygments_lexer": "ipython3",
   "version": "3.12.4"
  }
 },
 "nbformat": 4,
 "nbformat_minor": 4
}
